{
 "cells": [
  {
   "cell_type": "code",
   "execution_count": 131,
   "metadata": {},
   "outputs": [],
   "source": [
    "import numpy as np\n",
    "import pandas as pd"
   ]
  },
  {
   "cell_type": "code",
   "execution_count": 132,
   "metadata": {},
   "outputs": [
    {
     "data": {
      "text/html": [
       "<div>\n",
       "<style scoped>\n",
       "    .dataframe tbody tr th:only-of-type {\n",
       "        vertical-align: middle;\n",
       "    }\n",
       "\n",
       "    .dataframe tbody tr th {\n",
       "        vertical-align: top;\n",
       "    }\n",
       "\n",
       "    .dataframe thead th {\n",
       "        text-align: right;\n",
       "    }\n",
       "</style>\n",
       "<table border=\"1\" class=\"dataframe\">\n",
       "  <thead>\n",
       "    <tr style=\"text-align: right;\">\n",
       "      <th></th>\n",
       "      <th>0</th>\n",
       "      <th>1</th>\n",
       "      <th>2</th>\n",
       "      <th>3</th>\n",
       "      <th>4</th>\n",
       "      <th>5</th>\n",
       "      <th>6</th>\n",
       "      <th>7</th>\n",
       "      <th>8</th>\n",
       "      <th>9</th>\n",
       "      <th>...</th>\n",
       "      <th>2070</th>\n",
       "      <th>2071</th>\n",
       "      <th>2072</th>\n",
       "      <th>2073</th>\n",
       "      <th>2074</th>\n",
       "      <th>2075</th>\n",
       "      <th>2076</th>\n",
       "      <th>2077</th>\n",
       "      <th>2078</th>\n",
       "      <th>2079</th>\n",
       "    </tr>\n",
       "  </thead>\n",
       "  <tbody>\n",
       "    <tr>\n",
       "      <th>0</th>\n",
       "      <td>0.048905</td>\n",
       "      <td>0.011679</td>\n",
       "      <td>0.001975</td>\n",
       "      <td>0.021766</td>\n",
       "      <td>0.067953</td>\n",
       "      <td>0.037869</td>\n",
       "      <td>0.031675</td>\n",
       "      <td>0.019814</td>\n",
       "      <td>0.004830</td>\n",
       "      <td>0.083814</td>\n",
       "      <td>...</td>\n",
       "      <td>0.002892</td>\n",
       "      <td>0.048984</td>\n",
       "      <td>0.029960</td>\n",
       "      <td>0.039517</td>\n",
       "      <td>0.019952</td>\n",
       "      <td>0.034073</td>\n",
       "      <td>0.005839</td>\n",
       "      <td>0.005744</td>\n",
       "      <td>0.015549</td>\n",
       "      <td>0.031381</td>\n",
       "    </tr>\n",
       "    <tr>\n",
       "      <th>1</th>\n",
       "      <td>0.049622</td>\n",
       "      <td>0.011937</td>\n",
       "      <td>0.002033</td>\n",
       "      <td>0.022423</td>\n",
       "      <td>0.067662</td>\n",
       "      <td>0.041857</td>\n",
       "      <td>0.033858</td>\n",
       "      <td>0.018942</td>\n",
       "      <td>0.004744</td>\n",
       "      <td>0.081488</td>\n",
       "      <td>...</td>\n",
       "      <td>0.003578</td>\n",
       "      <td>0.049885</td>\n",
       "      <td>0.027282</td>\n",
       "      <td>0.038969</td>\n",
       "      <td>0.020614</td>\n",
       "      <td>0.035464</td>\n",
       "      <td>0.006810</td>\n",
       "      <td>0.005767</td>\n",
       "      <td>0.014316</td>\n",
       "      <td>0.032913</td>\n",
       "    </tr>\n",
       "    <tr>\n",
       "      <th>2</th>\n",
       "      <td>0.049377</td>\n",
       "      <td>0.012678</td>\n",
       "      <td>0.002111</td>\n",
       "      <td>0.022569</td>\n",
       "      <td>0.071262</td>\n",
       "      <td>0.037874</td>\n",
       "      <td>0.033509</td>\n",
       "      <td>0.015293</td>\n",
       "      <td>0.005129</td>\n",
       "      <td>0.080742</td>\n",
       "      <td>...</td>\n",
       "      <td>0.002363</td>\n",
       "      <td>0.045649</td>\n",
       "      <td>0.030092</td>\n",
       "      <td>0.038292</td>\n",
       "      <td>0.021105</td>\n",
       "      <td>0.034499</td>\n",
       "      <td>0.005615</td>\n",
       "      <td>0.004780</td>\n",
       "      <td>0.013970</td>\n",
       "      <td>0.031146</td>\n",
       "    </tr>\n",
       "    <tr>\n",
       "      <th>3</th>\n",
       "      <td>0.049119</td>\n",
       "      <td>0.012059</td>\n",
       "      <td>0.002043</td>\n",
       "      <td>0.021865</td>\n",
       "      <td>0.067989</td>\n",
       "      <td>0.039044</td>\n",
       "      <td>0.032324</td>\n",
       "      <td>0.019768</td>\n",
       "      <td>0.004840</td>\n",
       "      <td>0.083220</td>\n",
       "      <td>...</td>\n",
       "      <td>0.002366</td>\n",
       "      <td>0.051522</td>\n",
       "      <td>0.028062</td>\n",
       "      <td>0.037822</td>\n",
       "      <td>0.020210</td>\n",
       "      <td>0.031624</td>\n",
       "      <td>0.006413</td>\n",
       "      <td>0.005942</td>\n",
       "      <td>0.015166</td>\n",
       "      <td>0.032682</td>\n",
       "    </tr>\n",
       "    <tr>\n",
       "      <th>4</th>\n",
       "      <td>0.050868</td>\n",
       "      <td>0.011680</td>\n",
       "      <td>0.002006</td>\n",
       "      <td>0.021329</td>\n",
       "      <td>0.067009</td>\n",
       "      <td>0.039194</td>\n",
       "      <td>0.031737</td>\n",
       "      <td>0.020214</td>\n",
       "      <td>0.005168</td>\n",
       "      <td>0.081305</td>\n",
       "      <td>...</td>\n",
       "      <td>0.003031</td>\n",
       "      <td>0.051998</td>\n",
       "      <td>0.028592</td>\n",
       "      <td>0.038804</td>\n",
       "      <td>0.018502</td>\n",
       "      <td>0.032700</td>\n",
       "      <td>0.007472</td>\n",
       "      <td>0.006499</td>\n",
       "      <td>0.014712</td>\n",
       "      <td>0.030189</td>\n",
       "    </tr>\n",
       "  </tbody>\n",
       "</table>\n",
       "<p>5 rows × 2080 columns</p>\n",
       "</div>"
      ],
      "text/plain": [
       "          0         1         2         3         4         5         6  \\\n",
       "0  0.048905  0.011679  0.001975  0.021766  0.067953  0.037869  0.031675   \n",
       "1  0.049622  0.011937  0.002033  0.022423  0.067662  0.041857  0.033858   \n",
       "2  0.049377  0.012678  0.002111  0.022569  0.071262  0.037874  0.033509   \n",
       "3  0.049119  0.012059  0.002043  0.021865  0.067989  0.039044  0.032324   \n",
       "4  0.050868  0.011680  0.002006  0.021329  0.067009  0.039194  0.031737   \n",
       "\n",
       "          7         8         9  ...      2070      2071      2072      2073  \\\n",
       "0  0.019814  0.004830  0.083814  ...  0.002892  0.048984  0.029960  0.039517   \n",
       "1  0.018942  0.004744  0.081488  ...  0.003578  0.049885  0.027282  0.038969   \n",
       "2  0.015293  0.005129  0.080742  ...  0.002363  0.045649  0.030092  0.038292   \n",
       "3  0.019768  0.004840  0.083220  ...  0.002366  0.051522  0.028062  0.037822   \n",
       "4  0.020214  0.005168  0.081305  ...  0.003031  0.051998  0.028592  0.038804   \n",
       "\n",
       "       2074      2075      2076      2077      2078      2079  \n",
       "0  0.019952  0.034073  0.005839  0.005744  0.015549  0.031381  \n",
       "1  0.020614  0.035464  0.006810  0.005767  0.014316  0.032913  \n",
       "2  0.021105  0.034499  0.005615  0.004780  0.013970  0.031146  \n",
       "3  0.020210  0.031624  0.006413  0.005942  0.015166  0.032682  \n",
       "4  0.018502  0.032700  0.007472  0.006499  0.014712  0.030189  \n",
       "\n",
       "[5 rows x 2080 columns]"
      ]
     },
     "execution_count": 132,
     "metadata": {},
     "output_type": "execute_result"
    }
   ],
   "source": [
    "x = pd.read_csv(\"./DDI/data5/x.csv\", index_col=0)\n",
    "x.head()"
   ]
  },
  {
   "cell_type": "code",
   "execution_count": 133,
   "metadata": {},
   "outputs": [
    {
     "data": {
      "text/html": [
       "<div>\n",
       "<style scoped>\n",
       "    .dataframe tbody tr th:only-of-type {\n",
       "        vertical-align: middle;\n",
       "    }\n",
       "\n",
       "    .dataframe tbody tr th {\n",
       "        vertical-align: top;\n",
       "    }\n",
       "\n",
       "    .dataframe thead th {\n",
       "        text-align: right;\n",
       "    }\n",
       "</style>\n",
       "<table border=\"1\" class=\"dataframe\">\n",
       "  <thead>\n",
       "    <tr style=\"text-align: right;\">\n",
       "      <th></th>\n",
       "      <th>0</th>\n",
       "    </tr>\n",
       "  </thead>\n",
       "  <tbody>\n",
       "    <tr>\n",
       "      <th>0</th>\n",
       "      <td>1</td>\n",
       "    </tr>\n",
       "    <tr>\n",
       "      <th>1</th>\n",
       "      <td>3</td>\n",
       "    </tr>\n",
       "    <tr>\n",
       "      <th>2</th>\n",
       "      <td>2</td>\n",
       "    </tr>\n",
       "    <tr>\n",
       "      <th>3</th>\n",
       "      <td>0</td>\n",
       "    </tr>\n",
       "    <tr>\n",
       "      <th>4</th>\n",
       "      <td>0</td>\n",
       "    </tr>\n",
       "  </tbody>\n",
       "</table>\n",
       "</div>"
      ],
      "text/plain": [
       "   0\n",
       "0  1\n",
       "1  3\n",
       "2  2\n",
       "3  0\n",
       "4  0"
      ]
     },
     "execution_count": 133,
     "metadata": {},
     "output_type": "execute_result"
    }
   ],
   "source": [
    "y = pd.read_csv(\"./DDI/data5/y.csv\", index_col=0)\n",
    "y.head()"
   ]
  },
  {
   "cell_type": "code",
   "execution_count": 134,
   "metadata": {},
   "outputs": [
    {
     "data": {
      "text/plain": [
       "((10000, 2080), (10000, 1))"
      ]
     },
     "execution_count": 134,
     "metadata": {},
     "output_type": "execute_result"
    }
   ],
   "source": [
    "x.shape, y.shape"
   ]
  },
  {
   "cell_type": "code",
   "execution_count": 135,
   "metadata": {},
   "outputs": [],
   "source": [
    "from sklearn.model_selection import train_test_split\n",
    "from sklearn.neighbors import KNeighborsClassifier\n",
    "from sklearn.metrics import accuracy_score"
   ]
  },
  {
   "cell_type": "code",
   "execution_count": 136,
   "metadata": {},
   "outputs": [
    {
     "data": {
      "text/plain": [
       "((7500, 2080), (2500, 2080), (7500, 1), (2500, 1))"
      ]
     },
     "execution_count": 136,
     "metadata": {},
     "output_type": "execute_result"
    }
   ],
   "source": [
    "x_train, x_test, y_train, y_test = train_test_split(x, y)\n",
    "x_train.shape, x_test.shape, y_train.shape, y_test.shape"
   ]
  },
  {
   "cell_type": "code",
   "execution_count": 183,
   "metadata": {},
   "outputs": [
    {
     "name": "stderr",
     "output_type": "stream",
     "text": [
      "c:\\Python310\\lib\\site-packages\\sklearn\\neighbors\\_classification.py:207: DataConversionWarning: A column-vector y was passed when a 1d array was expected. Please change the shape of y to (n_samples,), for example using ravel().\n",
      "  return self._fit(X, y)\n"
     ]
    }
   ],
   "source": [
    "clf = KNeighborsClassifier(n_neighbors=4)\n",
    "clf.fit(x_train, y_train)\n",
    "y_pred = clf.predict(x_test)\n",
    "acc_knn = accuracy_score(y_test, y_pred)"
   ]
  },
  {
   "cell_type": "code",
   "execution_count": 184,
   "metadata": {},
   "outputs": [
    {
     "data": {
      "text/plain": [
       "0.6456"
      ]
     },
     "execution_count": 184,
     "metadata": {},
     "output_type": "execute_result"
    }
   ],
   "source": [
    "acc_knn"
   ]
  },
  {
   "cell_type": "code",
   "execution_count": 182,
   "metadata": {},
   "outputs": [
    {
     "data": {
      "text/plain": [
       "0.5232"
      ]
     },
     "execution_count": 182,
     "metadata": {},
     "output_type": "execute_result"
    }
   ],
   "source": [
    "from sklearn.tree import DecisionTreeClassifier\n",
    "clf = DecisionTreeClassifier()\n",
    "clf.fit(x_train, y_train)\n",
    "y_pred = clf.predict(x_test)\n",
    "acc_dt = accuracy_score(y_test, y_pred)\n",
    "acc_dt"
   ]
  },
  {
   "cell_type": "code",
   "execution_count": 185,
   "metadata": {},
   "outputs": [
    {
     "name": "stderr",
     "output_type": "stream",
     "text": [
      "c:\\Python310\\lib\\site-packages\\sklearn\\linear_model\\_ridge.py:1178: DataConversionWarning: A column-vector y was passed when a 1d array was expected. Please change the shape of y to (n_samples, ), for example using ravel().\n",
      "  y = column_or_1d(y, warn=True)\n"
     ]
    },
    {
     "data": {
      "text/plain": [
       "0.5652"
      ]
     },
     "execution_count": 185,
     "metadata": {},
     "output_type": "execute_result"
    }
   ],
   "source": [
    "from sklearn.linear_model import RidgeClassifier\n",
    "clf = RidgeClassifier()\n",
    "clf.fit(x_train, y_train)\n",
    "y_pred = clf.predict(x_test)\n",
    "acc_rc = accuracy_score(y_test, y_pred)\n",
    "acc_rc"
   ]
  },
  {
   "cell_type": "code",
   "execution_count": 103,
   "metadata": {},
   "outputs": [],
   "source": [
    "from keras.models import Model\n",
    "from keras.layers import Dense, Dropout, Input, Activation, BatchNormalization, LSTM, MaxPooling1D, Conv1D\n",
    "from keras.callbacks import EarlyStopping"
   ]
  },
  {
   "cell_type": "code",
   "execution_count": 137,
   "metadata": {},
   "outputs": [
    {
     "data": {
      "text/plain": [
       "((7500, 65), (2500, 65))"
      ]
     },
     "execution_count": 137,
     "metadata": {},
     "output_type": "execute_result"
    }
   ],
   "source": [
    "y_train_one_hot = []\n",
    "for i in range(len(y_train)):\n",
    "    curr = np.zeros(65, dtype='float32')\n",
    "    curr[y_train.iloc[i, 0]] = 1\n",
    "    y_train_one_hot.append(curr)\n",
    "\n",
    "y_train_one_hot = np.array(y_train_one_hot)\n",
    "\n",
    "y_test_one_hot = []\n",
    "for i in range(len(y_test)):\n",
    "    curr = np.zeros(65, dtype='float32')\n",
    "    curr[y_test.iloc[i, 0]] = 1\n",
    "    y_test_one_hot.append(curr)\n",
    "\n",
    "y_test_one_hot = np.array(y_test_one_hot)\n",
    "\n",
    "y_train_one_hot.shape, y_test_one_hot.shape"
   ]
  },
  {
   "cell_type": "code",
   "execution_count": 138,
   "metadata": {},
   "outputs": [],
   "source": [
    "def DNN():\n",
    "    train_input = Input(shape=(2080,), name='Inputlayer')\n",
    "    train_in = Dense(512, activation='relu')(train_input)\n",
    "    train_in = BatchNormalization()(train_in)\n",
    "    train_in = Dropout(0.3)(train_in)\n",
    "    train_in = Dense(256, activation='relu')(train_in)\n",
    "    train_in = BatchNormalization()(train_in)\n",
    "    train_in = Dropout(0.3)(train_in)\n",
    "    train_in = Dense(65)(train_in)\n",
    "    out = Activation('softmax')(train_in)\n",
    "    model = Model(inputs=train_input, outputs=out)\n",
    "    model.compile(optimizer='adam', loss='categorical_crossentropy', metrics=['accuracy']) # binary_crossentropy\n",
    "    return model"
   ]
  },
  {
   "cell_type": "code",
   "execution_count": 158,
   "metadata": {},
   "outputs": [
    {
     "name": "stdout",
     "output_type": "stream",
     "text": [
      "Epoch 1/100\n",
      "\u001b[1m59/59\u001b[0m \u001b[32m━━━━━━━━━━━━━━━━━━━━\u001b[0m\u001b[37m\u001b[0m \u001b[1m4s\u001b[0m 29ms/step - accuracy: 0.3578 - loss: 3.0897 - val_accuracy: 0.2452 - val_loss: 3.6302\n",
      "Epoch 2/100\n",
      "\u001b[1m59/59\u001b[0m \u001b[32m━━━━━━━━━━━━━━━━━━━━\u001b[0m\u001b[37m\u001b[0m \u001b[1m1s\u001b[0m 22ms/step - accuracy: 0.5837 - loss: 1.6495 - val_accuracy: 0.3796 - val_loss: 3.0364\n",
      "Epoch 3/100\n",
      "\u001b[1m59/59\u001b[0m \u001b[32m━━━━━━━━━━━━━━━━━━━━\u001b[0m\u001b[37m\u001b[0m \u001b[1m1s\u001b[0m 21ms/step - accuracy: 0.6269 - loss: 1.3527 - val_accuracy: 0.3976 - val_loss: 2.6252\n",
      "Epoch 4/100\n",
      "\u001b[1m59/59\u001b[0m \u001b[32m━━━━━━━━━━━━━━━━━━━━\u001b[0m\u001b[37m\u001b[0m \u001b[1m1s\u001b[0m 23ms/step - accuracy: 0.6750 - loss: 1.1682 - val_accuracy: 0.2508 - val_loss: 2.5226\n",
      "Epoch 5/100\n",
      "\u001b[1m59/59\u001b[0m \u001b[32m━━━━━━━━━━━━━━━━━━━━\u001b[0m\u001b[37m\u001b[0m \u001b[1m1s\u001b[0m 22ms/step - accuracy: 0.7001 - loss: 1.0228 - val_accuracy: 0.2592 - val_loss: 2.3941\n",
      "Epoch 6/100\n",
      "\u001b[1m59/59\u001b[0m \u001b[32m━━━━━━━━━━━━━━━━━━━━\u001b[0m\u001b[37m\u001b[0m \u001b[1m1s\u001b[0m 22ms/step - accuracy: 0.7117 - loss: 0.9255 - val_accuracy: 0.3144 - val_loss: 2.3234\n",
      "Epoch 7/100\n",
      "\u001b[1m59/59\u001b[0m \u001b[32m━━━━━━━━━━━━━━━━━━━━\u001b[0m\u001b[37m\u001b[0m \u001b[1m1s\u001b[0m 23ms/step - accuracy: 0.7344 - loss: 0.8647 - val_accuracy: 0.4248 - val_loss: 1.9747\n",
      "Epoch 8/100\n",
      "\u001b[1m59/59\u001b[0m \u001b[32m━━━━━━━━━━━━━━━━━━━━\u001b[0m\u001b[37m\u001b[0m \u001b[1m1s\u001b[0m 22ms/step - accuracy: 0.7435 - loss: 0.8043 - val_accuracy: 0.3908 - val_loss: 2.0825\n",
      "Epoch 9/100\n",
      "\u001b[1m59/59\u001b[0m \u001b[32m━━━━━━━━━━━━━━━━━━━━\u001b[0m\u001b[37m\u001b[0m \u001b[1m1s\u001b[0m 22ms/step - accuracy: 0.7549 - loss: 0.7615 - val_accuracy: 0.5864 - val_loss: 1.4412\n",
      "Epoch 10/100\n",
      "\u001b[1m59/59\u001b[0m \u001b[32m━━━━━━━━━━━━━━━━━━━━\u001b[0m\u001b[37m\u001b[0m \u001b[1m1s\u001b[0m 24ms/step - accuracy: 0.7792 - loss: 0.6814 - val_accuracy: 0.5232 - val_loss: 1.6644\n",
      "Epoch 11/100\n",
      "\u001b[1m59/59\u001b[0m \u001b[32m━━━━━━━━━━━━━━━━━━━━\u001b[0m\u001b[37m\u001b[0m \u001b[1m1s\u001b[0m 24ms/step - accuracy: 0.7757 - loss: 0.6736 - val_accuracy: 0.6460 - val_loss: 1.1136\n",
      "Epoch 12/100\n",
      "\u001b[1m59/59\u001b[0m \u001b[32m━━━━━━━━━━━━━━━━━━━━\u001b[0m\u001b[37m\u001b[0m \u001b[1m1s\u001b[0m 24ms/step - accuracy: 0.7765 - loss: 0.6743 - val_accuracy: 0.6256 - val_loss: 1.1656\n",
      "Epoch 13/100\n",
      "\u001b[1m59/59\u001b[0m \u001b[32m━━━━━━━━━━━━━━━━━━━━\u001b[0m\u001b[37m\u001b[0m \u001b[1m1s\u001b[0m 23ms/step - accuracy: 0.7948 - loss: 0.6244 - val_accuracy: 0.6036 - val_loss: 1.3172\n",
      "Epoch 14/100\n",
      "\u001b[1m59/59\u001b[0m \u001b[32m━━━━━━━━━━━━━━━━━━━━\u001b[0m\u001b[37m\u001b[0m \u001b[1m2s\u001b[0m 27ms/step - accuracy: 0.7995 - loss: 0.5890 - val_accuracy: 0.6128 - val_loss: 1.2664\n",
      "Epoch 15/100\n",
      "\u001b[1m59/59\u001b[0m \u001b[32m━━━━━━━━━━━━━━━━━━━━\u001b[0m\u001b[37m\u001b[0m \u001b[1m1s\u001b[0m 24ms/step - accuracy: 0.8170 - loss: 0.5554 - val_accuracy: 0.6516 - val_loss: 1.3242\n",
      "Epoch 16/100\n",
      "\u001b[1m59/59\u001b[0m \u001b[32m━━━━━━━━━━━━━━━━━━━━\u001b[0m\u001b[37m\u001b[0m \u001b[1m2s\u001b[0m 26ms/step - accuracy: 0.8173 - loss: 0.5522 - val_accuracy: 0.6284 - val_loss: 1.6197\n",
      "Epoch 17/100\n",
      "\u001b[1m59/59\u001b[0m \u001b[32m━━━━━━━━━━━━━━━━━━━━\u001b[0m\u001b[37m\u001b[0m \u001b[1m2s\u001b[0m 25ms/step - accuracy: 0.8142 - loss: 0.5693 - val_accuracy: 0.7080 - val_loss: 0.9646\n",
      "Epoch 18/100\n",
      "\u001b[1m59/59\u001b[0m \u001b[32m━━━━━━━━━━━━━━━━━━━━\u001b[0m\u001b[37m\u001b[0m \u001b[1m1s\u001b[0m 23ms/step - accuracy: 0.8180 - loss: 0.5484 - val_accuracy: 0.7208 - val_loss: 0.9087\n",
      "Epoch 19/100\n",
      "\u001b[1m59/59\u001b[0m \u001b[32m━━━━━━━━━━━━━━━━━━━━\u001b[0m\u001b[37m\u001b[0m \u001b[1m1s\u001b[0m 24ms/step - accuracy: 0.8291 - loss: 0.5080 - val_accuracy: 0.6900 - val_loss: 1.1895\n",
      "Epoch 20/100\n",
      "\u001b[1m59/59\u001b[0m \u001b[32m━━━━━━━━━━━━━━━━━━━━\u001b[0m\u001b[37m\u001b[0m \u001b[1m1s\u001b[0m 23ms/step - accuracy: 0.8293 - loss: 0.5073 - val_accuracy: 0.7412 - val_loss: 0.8699\n",
      "Epoch 21/100\n",
      "\u001b[1m59/59\u001b[0m \u001b[32m━━━━━━━━━━━━━━━━━━━━\u001b[0m\u001b[37m\u001b[0m \u001b[1m1s\u001b[0m 22ms/step - accuracy: 0.8458 - loss: 0.4651 - val_accuracy: 0.6780 - val_loss: 1.1437\n",
      "Epoch 22/100\n",
      "\u001b[1m59/59\u001b[0m \u001b[32m━━━━━━━━━━━━━━━━━━━━\u001b[0m\u001b[37m\u001b[0m \u001b[1m1s\u001b[0m 23ms/step - accuracy: 0.8450 - loss: 0.4619 - val_accuracy: 0.6916 - val_loss: 1.0784\n",
      "Epoch 23/100\n",
      "\u001b[1m59/59\u001b[0m \u001b[32m━━━━━━━━━━━━━━━━━━━━\u001b[0m\u001b[37m\u001b[0m \u001b[1m1s\u001b[0m 23ms/step - accuracy: 0.8296 - loss: 0.4842 - val_accuracy: 0.6592 - val_loss: 1.2052\n",
      "Epoch 24/100\n",
      "\u001b[1m59/59\u001b[0m \u001b[32m━━━━━━━━━━━━━━━━━━━━\u001b[0m\u001b[37m\u001b[0m \u001b[1m2s\u001b[0m 25ms/step - accuracy: 0.8590 - loss: 0.4277 - val_accuracy: 0.6744 - val_loss: 1.2023\n",
      "Epoch 25/100\n",
      "\u001b[1m59/59\u001b[0m \u001b[32m━━━━━━━━━━━━━━━━━━━━\u001b[0m\u001b[37m\u001b[0m \u001b[1m1s\u001b[0m 23ms/step - accuracy: 0.8500 - loss: 0.4304 - val_accuracy: 0.5884 - val_loss: 1.7428\n",
      "Epoch 26/100\n",
      "\u001b[1m59/59\u001b[0m \u001b[32m━━━━━━━━━━━━━━━━━━━━\u001b[0m\u001b[37m\u001b[0m \u001b[1m1s\u001b[0m 23ms/step - accuracy: 0.8562 - loss: 0.4215 - val_accuracy: 0.6788 - val_loss: 1.2052\n",
      "Epoch 27/100\n",
      "\u001b[1m59/59\u001b[0m \u001b[32m━━━━━━━━━━━━━━━━━━━━\u001b[0m\u001b[37m\u001b[0m \u001b[1m2s\u001b[0m 27ms/step - accuracy: 0.8580 - loss: 0.4123 - val_accuracy: 0.7392 - val_loss: 0.9613\n",
      "Epoch 28/100\n",
      "\u001b[1m59/59\u001b[0m \u001b[32m━━━━━━━━━━━━━━━━━━━━\u001b[0m\u001b[37m\u001b[0m \u001b[1m2s\u001b[0m 29ms/step - accuracy: 0.8625 - loss: 0.3966 - val_accuracy: 0.6716 - val_loss: 1.2864\n",
      "Epoch 29/100\n",
      "\u001b[1m59/59\u001b[0m \u001b[32m━━━━━━━━━━━━━━━━━━━━\u001b[0m\u001b[37m\u001b[0m \u001b[1m2s\u001b[0m 25ms/step - accuracy: 0.8522 - loss: 0.4061 - val_accuracy: 0.5640 - val_loss: 1.7728\n",
      "Epoch 30/100\n",
      "\u001b[1m59/59\u001b[0m \u001b[32m━━━━━━━━━━━━━━━━━━━━\u001b[0m\u001b[37m\u001b[0m \u001b[1m2s\u001b[0m 28ms/step - accuracy: 0.8626 - loss: 0.3871 - val_accuracy: 0.7344 - val_loss: 0.9535\n",
      "\u001b[1m79/79\u001b[0m \u001b[32m━━━━━━━━━━━━━━━━━━━━\u001b[0m\u001b[37m\u001b[0m \u001b[1m0s\u001b[0m 4ms/step\n"
     ]
    }
   ],
   "source": [
    "dnn = DNN()\n",
    "early_stopping = EarlyStopping(monitor='val_loss', patience=10, verbose=0, mode='auto')\n",
    "history = dnn.fit(x_train, y_train_one_hot, batch_size=128, epochs=100,\n",
    "        validation_data=(x_test, y_test_one_hot),\n",
    "        callbacks=[early_stopping])\n",
    "y_pred = dnn.predict(x_test)"
   ]
  },
  {
   "cell_type": "code",
   "execution_count": 140,
   "metadata": {},
   "outputs": [
    {
     "name": "stderr",
     "output_type": "stream",
     "text": [
      "WARNING:absl:You are saving your model as an HDF5 file via `model.save()` or `keras.saving.save_model(model)`. This file format is considered legacy. We recommend using instead the native Keras format, e.g. `model.save('my_model.keras')` or `keras.saving.save_model(model, 'my_model.keras')`. \n"
     ]
    }
   ],
   "source": [
    "dnn.save(\"./models/dnn.h5\")"
   ]
  },
  {
   "cell_type": "code",
   "execution_count": 141,
   "metadata": {},
   "outputs": [
    {
     "name": "stdout",
     "output_type": "stream",
     "text": [
      "\u001b[1m79/79\u001b[0m \u001b[32m━━━━━━━━━━━━━━━━━━━━\u001b[0m\u001b[37m\u001b[0m \u001b[1m0s\u001b[0m 4ms/step\n"
     ]
    },
    {
     "data": {
      "text/plain": [
       "array([[8.7415089e-07, 4.5168441e-02, 1.1649971e-04, ..., 1.5122432e-06,\n",
       "        9.0463727e-06, 1.4500032e-06],\n",
       "       [1.9884530e-08, 1.3942956e-05, 6.5632149e-09, ..., 7.6643630e-07,\n",
       "        3.0509713e-07, 3.8497681e-08],\n",
       "       [2.5942102e-01, 1.8733222e-03, 1.1139036e-02, ..., 1.1513853e-03,\n",
       "        2.2397704e-04, 1.7173879e-04],\n",
       "       ...,\n",
       "       [4.3468994e-01, 2.0355639e-05, 3.7212656e-06, ..., 1.6535458e-04,\n",
       "        7.6222420e-04, 4.7046295e-05],\n",
       "       [8.3665783e-11, 2.1371919e-08, 2.5895120e-06, ..., 1.4922250e-08,\n",
       "        4.7839882e-07, 1.0669365e-06],\n",
       "       [1.0072087e-07, 1.1814954e-02, 1.9608028e-03, ..., 7.6050583e-08,\n",
       "        8.3159728e-07, 7.1397012e-06]], dtype=float32)"
      ]
     },
     "execution_count": 141,
     "metadata": {},
     "output_type": "execute_result"
    }
   ],
   "source": [
    "y_pred = dnn.predict(x_test)\n",
    "y_pred"
   ]
  },
  {
   "cell_type": "code",
   "execution_count": 142,
   "metadata": {},
   "outputs": [],
   "source": [
    "def get_dnn_acc(y_test, y_pred):\n",
    "    correct = 0\n",
    "    for i in range(len(y_test)):\n",
    "        if(y_test[i].argmax() == y_pred[i].argmax()):\n",
    "            correct += 1\n",
    "    acc = correct / len(y_test)\n",
    "    return acc"
   ]
  },
  {
   "cell_type": "code",
   "execution_count": 143,
   "metadata": {},
   "outputs": [
    {
     "data": {
      "text/plain": [
       "0.5816"
      ]
     },
     "execution_count": 143,
     "metadata": {},
     "output_type": "execute_result"
    }
   ],
   "source": [
    "acc_dnn = get_dnn_acc(y_test_one_hot, y_pred)\n",
    "acc_dnn"
   ]
  },
  {
   "cell_type": "code",
   "execution_count": 154,
   "metadata": {},
   "outputs": [
    {
     "data": {
      "text/plain": [
       "<tf.Tensor: shape=(2500, 65), dtype=float64, numpy=\n",
       "array([[ 0.04413947,  0.23274931,  0.14699186, ..., -0.00091828,\n",
       "         0.        ,  0.01392493],\n",
       "       [ 0.40268684,  0.18647786, -0.13414402, ..., -0.00984178,\n",
       "         0.        ,  0.00165303],\n",
       "       [ 0.77267781,  0.17777792,  0.09575014, ...,  0.00161993,\n",
       "         0.        ,  0.01084861],\n",
       "       ...,\n",
       "       [ 0.53173731, -0.17044351, -0.06610823, ...,  0.00483252,\n",
       "         0.        ,  0.00549821],\n",
       "       [-0.07508512, -0.12996185,  0.55788977, ..., -0.0059751 ,\n",
       "         0.        ,  0.02891213],\n",
       "       [-0.68805556,  0.78666743,  0.56546385, ..., -0.00734338,\n",
       "         0.        ,  0.00726322]])>"
      ]
     },
     "execution_count": 154,
     "metadata": {},
     "output_type": "execute_result"
    }
   ],
   "source": [
    "import tensorflow as tf\n",
    "\n",
    "# Define the ELM model\n",
    "class ELM:\n",
    "    def __init__(self, input_size, hidden_size, output_size):\n",
    "        # Randomly initialize the input-to-hidden layer weights and biases\n",
    "        self.input_weights = tf.Variable(tf.random.normal([input_size, hidden_size], dtype='double'), trainable=False)\n",
    "        self.biases = tf.Variable(tf.random.normal([hidden_size], dtype='double'), trainable=False)\n",
    "        self.output_weights = None  # This will be solved using least squares\n",
    "\n",
    "    def hidden_layer_output(self, X):\n",
    "        # Compute the hidden layer output (non-trainable)\n",
    "        H = tf.matmul(X, self.input_weights) + self.biases\n",
    "        H = tf.nn.relu(H)  # Apply activation function (ReLU)\n",
    "        return H\n",
    "\n",
    "    def fit(self, X_train, Y_train):\n",
    "        # Compute the hidden layer output\n",
    "        H = self.hidden_layer_output(X_train)\n",
    "        \n",
    "        # Solve the output weights using the Moore-Penrose pseudoinverse\n",
    "        H_pinv = tf.linalg.pinv(H)  # Compute the pseudoinverse of H\n",
    "        self.output_weights = tf.matmul(H_pinv, Y_train)  # Output weights\n",
    "\n",
    "    def predict(self, X):\n",
    "        # Compute hidden layer output for test data\n",
    "        H = self.hidden_layer_output(X)\n",
    "        # Compute predictions\n",
    "        return tf.matmul(H, self.output_weights)\n",
    "\n",
    "# Initialize ELM model\n",
    "input_size = 2080    # Number of features\n",
    "hidden_size = 2048   # Number of hidden neurons, can be adjusted\n",
    "output_size = 65     # Number of classes\n",
    "\n",
    "elm = ELM(input_size, hidden_size, output_size)\n",
    "\n",
    "# Train the ELM model\n",
    "elm.fit(x_train, y_train_one_hot)\n",
    "\n",
    "# Predict on the test set\n",
    "y_pred = elm.predict(x_test)\n",
    "y_pred\n"
   ]
  },
  {
   "cell_type": "code",
   "execution_count": 155,
   "metadata": {},
   "outputs": [
    {
     "data": {
      "text/plain": [
       "0.7392"
      ]
     },
     "execution_count": 155,
     "metadata": {},
     "output_type": "execute_result"
    }
   ],
   "source": [
    "acc_elm = get_dnn_acc(y_test_one_hot, np.array(y_pred))\n",
    "acc_elm"
   ]
  },
  {
   "cell_type": "code",
   "execution_count": 156,
   "metadata": {},
   "outputs": [
    {
     "data": {
      "text/plain": [
       "0.8816"
      ]
     },
     "execution_count": 156,
     "metadata": {},
     "output_type": "execute_result"
    }
   ],
   "source": [
    "y_pred = elm.predict(x_train)\n",
    "acc_elm_training = get_dnn_acc(y_train_one_hot, np.array(y_pred))\n",
    "acc_elm_training"
   ]
  },
  {
   "cell_type": "code",
   "execution_count": 157,
   "metadata": {},
   "outputs": [],
   "source": [
    "import matplotlib.pyplot as plt"
   ]
  },
  {
   "cell_type": "code",
   "execution_count": 169,
   "metadata": {},
   "outputs": [
    {
     "data": {
      "text/plain": [
       "0.8586666584014893"
      ]
     },
     "execution_count": 169,
     "metadata": {},
     "output_type": "execute_result"
    }
   ],
   "source": [
    "dnn_acc_training = history.history['accuracy'][-1]\n",
    "dnn_acc_training"
   ]
  },
  {
   "cell_type": "code",
   "execution_count": 194,
   "metadata": {},
   "outputs": [
    {
     "data": {
      "image/png": "[encoded data removed]",
      "text/plain": [
       "<Figure size 1440x864 with 1 Axes>"
      ]
     },
     "metadata": {
      "needs_background": "light"
     },
     "output_type": "display_data"
    }
   ],
   "source": [
    "# set width of bar \n",
    "barWidth = 0.25\n",
    "fig = plt.subplots(figsize =(20, 12)) \n",
    "\n",
    "# set height of bar \n",
    "dnn_params = [acc_dnn, dnn_acc_training]\n",
    "elm_parmas = [acc_elm, acc_elm_training]\n",
    "\n",
    "# Set position of bar on X axis \n",
    "br1 = np.arange(len(dnn_params)) \n",
    "br2 = [x + barWidth for x in br1]\n",
    "\n",
    "# Make the plot\n",
    "plt.bar(br1, dnn_params, width = barWidth, \n",
    "        edgecolor ='grey', label ='DDI-MDL') \n",
    "plt.bar(br2, elm_parmas, width = barWidth, \n",
    "        edgecolor ='grey', label ='DDI-ELM')\n",
    "\n",
    "# Adding Xticks \n",
    "plt.xlabel('Model Used', fontsize = 20) \n",
    "plt.ylabel('Accuracy', fontsize = 20) \n",
    "plt.xticks([r + (barWidth/2) for r in range(len(dnn_params))], \n",
    "        ['Training Accuracy', 'Testing Accuracy'],fontsize = 14)\n",
    "\n",
    "plt.legend(prop = { \"size\": 20 })\n",
    "plt.show() "
   ]
  },
  {
   "cell_type": "code",
   "execution_count": 200,
   "metadata": {},
   "outputs": [
    {
     "data": {
      "image/png": "[encoded data removed]",
      "text/plain": [
       "<Figure size 1440x864 with 1 Axes>"
      ]
     },
     "metadata": {
      "needs_background": "light"
     },
     "output_type": "display_data"
    }
   ],
   "source": [
    "# set width of bar \n",
    "fig = plt.subplots(figsize =(20, 12))\n",
    "barWidth = 0.5\n",
    "\n",
    "# set height of bar \n",
    "acc_list = [acc_elm, acc_dt, acc_knn, acc_rc, acc_dnn]\n",
    "\n",
    "# Set position of bar on X axis \n",
    "br1 = np.arange(len(acc_list))\n",
    "\n",
    "# Make the plot\n",
    "plt.bar(br1, acc_list, width=barWidth)\n",
    "\n",
    "# Adding Xticks \n",
    "plt.xlabel('Model Used', fontsize = 16) \n",
    "plt.ylabel('Accuracy', fontsize = 16) \n",
    "plt.xticks([r for r in range(len(acc_list))], \n",
    "        ['ELM', 'Decision Tree', 'KNN', 'Ridge Classifier', 'DNN'], fontsize=12)\n",
    "\n",
    "plt.show() "
   ]
  },
  {
   "cell_type": "code",
   "execution_count": 213,
   "metadata": {},
   "outputs": [
    {
     "data": {
      "image/png": "[encoded data removed]",
      "text/plain": [
       "<Figure size 1440x864 with 1 Axes>"
      ]
     },
     "metadata": {
      "needs_background": "light"
     },
     "output_type": "display_data"
    }
   ],
   "source": [
    "y_pos = history.history['accuracy']\n",
    "x_pos = [i+1 for i in range(len(y_pos))]\n",
    "\n",
    "# Create a line chart\n",
    "plt.figure(figsize=(20, 12))\n",
    "plt.plot(x_pos, y_pos, marker='o', linestyle='-')\n",
    "\n",
    "# Add title and labels\n",
    "plt.title('Training Accuracy of DNN')\n",
    "plt.xlabel('Epoch', fontsize=14)\n",
    "plt.ylabel('Training Accuracy', fontsize=14)\n",
    "\n",
    "# Display grid\n",
    "plt.grid(True)\n",
    "\n",
    "# Show the plot\n",
    "plt.show()"
   ]
  },
  {
   "cell_type": "code",
   "execution_count": 214,
   "metadata": {},
   "outputs": [
    {
     "data": {
      "text/plain": [
       "(0.7392, 0.8816, 0.5816, 0.8586666584014893)"
      ]
     },
     "execution_count": 214,
     "metadata": {},
     "output_type": "execute_result"
    }
   ],
   "source": [
    "acc_elm, acc_elm_training, acc_dnn, dnn_acc_training"
   ]
  },
  {
   "cell_type": "code",
   "execution_count": null,
   "metadata": {},
   "outputs": [],
   "source": []
  }
 ],
 "metadata": {
  "kernelspec": {
   "display_name": "Python 3",
   "language": "python",
   "name": "python3"
  },
  "language_info": {
   "codemirror_mode": {
    "name": "ipython",
    "version": 3
   },
   "file_extension": ".py",
   "mimetype": "text/x-python",
   "name": "python",
   "nbconvert_exporter": "python",
   "pygments_lexer": "ipython3",
   "version": "3.10.4"
  }
 },
 "nbformat": 4,
 "nbformat_minor": 2
}
